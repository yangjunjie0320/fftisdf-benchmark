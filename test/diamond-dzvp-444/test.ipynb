{
 "cells": [
  {
   "cell_type": "code",
   "execution_count": 6,
   "metadata": {},
   "outputs": [
    {
     "name": "stdout",
     "output_type": "stream",
     "text": [
      "82880404.265215 0.0\n"
     ]
    }
   ],
   "source": [
    "import os, sys, numpy, scipy\n",
    "import pyscf, h5py\n",
    "from pyscf.lib.chkfile import load\n",
    "\n",
    "f = h5py.File(\"tmp/isdf-old.chk\", \"r\")\n",
    "\n",
    "coul_old = f[\"w\"][:]\n",
    "inpv_old = f[\"x\"][:]\n",
    "\n",
    "f = h5py.File(\"tmp/isdf-new.chk\", \"r\")\n",
    "\n",
    "coul_new = f[\"coul_kpt\"][:]\n",
    "inpv_new = f[\"inpf_kpt\"][:]\n",
    "\n",
    "err_coul = abs(coul_new - coul_old).max()\n",
    "err_inpv = abs(inpv_new - inpv_old).max()\n",
    "\n",
    "print(err_coul, err_inpv)\n",
    "\n",
    "\n"
   ]
  },
  {
   "cell_type": "code",
   "execution_count": null,
   "metadata": {},
   "outputs": [],
   "source": []
  }
 ],
 "metadata": {
  "kernelspec": {
   "display_name": "fftisdf-with-mpich",
   "language": "python",
   "name": "python3"
  },
  "language_info": {
   "codemirror_mode": {
    "name": "ipython",
    "version": 3
   },
   "file_extension": ".py",
   "mimetype": "text/x-python",
   "name": "python",
   "nbconvert_exporter": "python",
   "pygments_lexer": "ipython3",
   "version": "3.9.18"
  }
 },
 "nbformat": 4,
 "nbformat_minor": 2
}
