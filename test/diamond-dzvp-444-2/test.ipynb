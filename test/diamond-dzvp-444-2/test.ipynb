{
 "cells": [
  {
   "cell_type": "code",
   "execution_count": 13,
   "metadata": {},
   "outputs": [],
   "source": [
    "import os, sys, numpy, scipy\n",
    "import pyscf, h5py\n",
    "from pyscf.lib.chkfile import load\n",
    "\n",
    "f_old = h5py.File(\"tmp/isdf-old.chk\", \"r\")\n",
    "f_new = h5py.File(\"tmp/isdf-new.chk\", \"r\")\n",
    "\n",
    "for k, v in f_old.items():\n",
    "    if \"q\" in k:\n",
    "        assert k in f_new\n",
    "        assert k in f_old\n",
    "\n",
    "        err = abs(f_new[k][:] - f_old[k][:]).max()\n",
    "        assert err < 1e-6\n",
    "\n",
    "\n",
    "coul_old = f_old[\"w\"][:]\n",
    "coul_new = f_new[\"coul_kpt\"][:]\n",
    "\n",
    "err = abs(coul_new - coul_old).max()\n",
    "assert err < 1e-6\n",
    "\n",
    "\n"
   ]
  },
  {
   "cell_type": "code",
   "execution_count": 14,
   "metadata": {},
   "outputs": [
    {
     "ename": "AssertionError",
     "evalue": "",
     "output_type": "error",
     "traceback": [
      "\u001b[0;31m---------------------------------------------------------------------------\u001b[0m",
      "\u001b[0;31mAssertionError\u001b[0m                            Traceback (most recent call last)",
      "Cell \u001b[0;32mIn[14], line 11\u001b[0m\n\u001b[1;32m      6\u001b[0m \u001b[38;5;66;03m# err = abs(v_new - v_ref).max()\u001b[39;00m\n\u001b[1;32m      7\u001b[0m \u001b[38;5;66;03m# print(err)\u001b[39;00m\n\u001b[1;32m      8\u001b[0m \u001b[38;5;66;03m# assert err < 1e-6\u001b[39;00m\n\u001b[1;32m     10\u001b[0m err \u001b[38;5;241m=\u001b[39m \u001b[38;5;28mabs\u001b[39m(v_old \u001b[38;5;241m-\u001b[39m v_ref)\u001b[38;5;241m.\u001b[39mmax()\n\u001b[0;32m---> 11\u001b[0m \u001b[38;5;28;01massert\u001b[39;00m err \u001b[38;5;241m<\u001b[39m \u001b[38;5;241m1e-6\u001b[39m\n",
      "\u001b[0;31mAssertionError\u001b[0m: "
     ]
    }
   ],
   "source": [
    "for v in [\"vj\", \"vk\"]:\n",
    "    v_ref = load(\"tmp/vjk-ref.chk\", v)\n",
    "    v_new = load(\"tmp/vjk-new.chk\", v)\n",
    "    v_old = load(\"tmp/vjk-old.chk\", v)\n",
    "\n",
    "    # err = abs(v_new - v_ref).max()\n",
    "    # print(err)\n",
    "    # assert err < 1e-6\n",
    "\n",
    "    err = abs(v_old - v_ref).max()\n",
    "    assert err < 1e-6\n",
    "\n"
   ]
  },
  {
   "cell_type": "code",
   "execution_count": null,
   "metadata": {},
   "outputs": [],
   "source": []
  }
 ],
 "metadata": {
  "kernelspec": {
   "display_name": "fftisdf-with-mpich",
   "language": "python",
   "name": "python3"
  },
  "language_info": {
   "codemirror_mode": {
    "name": "ipython",
    "version": 3
   },
   "file_extension": ".py",
   "mimetype": "text/x-python",
   "name": "python",
   "nbconvert_exporter": "python",
   "pygments_lexer": "ipython3",
   "version": "3.9.18"
  }
 },
 "nbformat": 4,
 "nbformat_minor": 2
}
