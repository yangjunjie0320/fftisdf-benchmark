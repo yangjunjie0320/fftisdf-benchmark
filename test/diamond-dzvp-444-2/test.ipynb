{
 "cells": [
  {
   "cell_type": "code",
   "execution_count": 11,
   "metadata": {},
   "outputs": [
    {
     "name": "stdout",
     "output_type": "stream",
     "text": [
      "\n",
      "\n",
      "******** <class 'pyscf.pbc.df.fft.FFTDF'> ********\n",
      "mesh = [45 45 45] (91125 PWs)\n",
      "len(kpts) = 64\n",
      "\n",
      "WARN: ke_cutoff/mesh (400 / [45 45 45]) is not enough for FFTDF to get integral accuracy 1e-08.\n",
      "Coulomb integral error is ~ 1.6e-05 Eh.\n",
      "Recommended ke_cutoff/mesh are 569.817 / [53 53 53].\n",
      "\n"
     ]
    },
    {
     "data": {
      "text/plain": [
       "<pyscf.pbc.df.fft.FFTDF at 0x7fe8a37fab80>"
      ]
     },
     "execution_count": 11,
     "metadata": {},
     "output_type": "execute_result"
    }
   ],
   "source": [
    "import sys, os, numpy, scipy\n",
    "sys.path.append(\"/home/junjiey/work/fftisdf-benchmark-new/src\")\n",
    "import pyscf\n",
    "\n",
    "DATA_PATH = \"/home/junjiey/work/fftisdf-benchmark-new/data/\"\n",
    "from utils import cell_from_poscar\n",
    "\n",
    "cell = cell_from_poscar(os.path.join(DATA_PATH, \"diamond-prim.vasp\"))\n",
    "cell.basis = 'gth-dzvp-molopt-sr'\n",
    "cell.pseudo = 'gth-pade'\n",
    "cell.verbose = 0\n",
    "cell.unit = 'aa'\n",
    "cell.exp_to_discard = 0.1\n",
    "cell.max_memory = 1000\n",
    "cell.ke_cutoff = 400.0\n",
    "cell.precision = 1e-8\n",
    "cell.build(dump_input=False)\n",
    "nao = cell.nao_nr()\n",
    "\n",
    "kmesh = [4, 4, 4]\n",
    "# kmesh = [2, 2, 2]\n",
    "nkpt = nspc = numpy.prod(kmesh)\n",
    "kpts = cell.get_kpts(kmesh)\n",
    "\n",
    "scf_obj = pyscf.pbc.scf.KRHF(cell, kpts=kpts)\n",
    "scf_obj.exxdiv = None\n",
    "scf_obj.with_df.verbose = 5\n",
    "scf_obj.with_df.dump_flags()\n",
    "scf_obj.with_df.check_sanity()"
   ]
  },
  {
   "cell_type": "code",
   "execution_count": 14,
   "metadata": {},
   "outputs": [
    {
     "ename": "AssertionError",
     "evalue": "",
     "output_type": "error",
     "traceback": [
      "\u001b[0;31m---------------------------------------------------------------------------\u001b[0m",
      "\u001b[0;31mAssertionError\u001b[0m                            Traceback (most recent call last)",
      "Cell \u001b[0;32mIn[14], line 11\u001b[0m\n\u001b[1;32m      6\u001b[0m \u001b[38;5;66;03m# err = abs(v_new - v_ref).max()\u001b[39;00m\n\u001b[1;32m      7\u001b[0m \u001b[38;5;66;03m# print(err)\u001b[39;00m\n\u001b[1;32m      8\u001b[0m \u001b[38;5;66;03m# assert err < 1e-6\u001b[39;00m\n\u001b[1;32m     10\u001b[0m err \u001b[38;5;241m=\u001b[39m \u001b[38;5;28mabs\u001b[39m(v_old \u001b[38;5;241m-\u001b[39m v_ref)\u001b[38;5;241m.\u001b[39mmax()\n\u001b[0;32m---> 11\u001b[0m \u001b[38;5;28;01massert\u001b[39;00m err \u001b[38;5;241m<\u001b[39m \u001b[38;5;241m1e-6\u001b[39m\n",
      "\u001b[0;31mAssertionError\u001b[0m: "
     ]
    }
   ],
   "source": [
    "for v in [\"vj\", \"vk\"]:\n",
    "    v_ref = load(\"tmp/vjk-ref.chk\", v)\n",
    "    v_new = load(\"tmp/vjk-new.chk\", v)\n",
    "    v_old = load(\"tmp/vjk-old.chk\", v)\n",
    "\n",
    "    # err = abs(v_new - v_ref).max()\n",
    "    # print(err)\n",
    "    # assert err < 1e-6\n",
    "\n",
    "    err = abs(v_old - v_ref).max()\n",
    "    assert err < 1e-6\n",
    "\n"
   ]
  },
  {
   "cell_type": "code",
   "execution_count": null,
   "metadata": {},
   "outputs": [],
   "source": []
  }
 ],
 "metadata": {
  "kernelspec": {
   "display_name": "fftisdf-with-mpich",
   "language": "python",
   "name": "python3"
  },
  "language_info": {
   "codemirror_mode": {
    "name": "ipython",
    "version": 3
   },
   "file_extension": ".py",
   "mimetype": "text/x-python",
   "name": "python",
   "nbconvert_exporter": "python",
   "pygments_lexer": "ipython3",
   "version": "3.9.18"
  }
 },
 "nbformat": 4,
 "nbformat_minor": 2
}
